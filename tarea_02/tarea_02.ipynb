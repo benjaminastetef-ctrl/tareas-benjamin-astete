{
  "cells": [
    {
      "cell_type": "markdown",
      "id": "e529efbe",
      "metadata": {
        "id": "e529efbe"
      },
      "source": [
        "# Problema 1\n",
        "Imprimir los números del -100 al 200"
      ]
    },
    {
      "cell_type": "code",
      "execution_count": null,
      "id": "451ef474",
      "metadata": {
        "id": "451ef474"
      },
      "outputs": [],
      "source": [
        "\n",
        "for i in range(-100, 201):\n",
        "    print(i)\n"
      ]
    },
    {
      "cell_type": "markdown",
      "id": "8e86ae26",
      "metadata": {
        "id": "8e86ae26"
      },
      "source": [
        "# Problema 2\n",
        "Imprimir los números del -100 al 200 que sean divisibles entre 6"
      ]
    },
    {
      "cell_type": "code",
      "execution_count": null,
      "id": "ec9c7918",
      "metadata": {
        "id": "ec9c7918"
      },
      "outputs": [],
      "source": [
        "\n",
        "for i in range(-100, 201):\n",
        "    if i % 6 == 0:\n",
        "        print(i)\n"
      ]
    },
    {
      "cell_type": "markdown",
      "id": "92b79148",
      "metadata": {
        "id": "92b79148"
      },
      "source": [
        "# Problema 3\n",
        "Sumador y comparador de dos números"
      ]
    },
    {
      "cell_type": "code",
      "execution_count": null,
      "id": "e53dcb9b",
      "metadata": {
        "id": "e53dcb9b"
      },
      "outputs": [],
      "source": [
        "\n",
        "num1 = int(input(\"Ingresa el primer número: \"))\n",
        "num2 = int(input(\"Ingresa el segundo número: \"))\n",
        "\n",
        "suma = num1 + num2\n",
        "\n",
        "if suma < 200:\n",
        "    print(\"El resultado es menor a 200\")\n",
        "elif suma > 200 and suma < 250:\n",
        "    print(\"El resultado es mayor a 200 y menor a 250\")\n",
        "else:\n",
        "    print(\"El resultado es mayor a 250\")\n"
      ]
    },
    {
      "cell_type": "markdown",
      "id": "4d676116",
      "metadata": {
        "id": "4d676116"
      },
      "source": [
        "# Problema 4\n",
        "Calculador de perfil"
      ]
    },
    {
      "cell_type": "code",
      "execution_count": null,
      "id": "4a3939f3",
      "metadata": {
        "id": "4a3939f3"
      },
      "outputs": [],
      "source": [
        "\n",
        "def perfil_usuario(edad, gusta_musica_urbana):\n",
        "    if edad >= 18 and gusta_musica_urbana:\n",
        "        return \"Eres mayor de edad y te gusta la música urbana\"\n",
        "    else:\n",
        "        return \"No eres mayor de edad o no te gusta la música urbana\"\n",
        "\n",
        "edad = int(input(\"Ingresa tu edad: \"))\n",
        "respuesta = input(\"¿Te gusta la música urbana? (si/no): \").lower()\n",
        "\n",
        "if respuesta == \"si\":\n",
        "    gusta = True\n",
        "else:\n",
        "    gusta = False\n",
        "\n",
        "print(perfil_usuario(edad, gusta))\n"
      ]
    }
  ],
  "metadata": {
    "colab": {
      "provenance": []
    }
  },
  "nbformat": 4,
  "nbformat_minor": 5
}